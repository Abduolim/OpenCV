{
 "cells": [
  {
   "cell_type": "code",
   "execution_count": 1,
   "id": "fa429d02",
   "metadata": {},
   "outputs": [],
   "source": [
    "import numpy as np\n",
    "import face_recognition as fr\n",
    "import cv2\n",
    "\n",
    "video_capture = cv2.VideoCapture(0)\n",
    "\n",
    "my_image = fr.load_image_file(\"Abduolim.jpg\")\n",
    "my_face_encoding = fr.face_encodings(my_image)[0]\n",
    "\n",
    "known_face_encondings = [my_face_encoding]\n",
    "known_face_names = [\"Abduolim\"]\n",
    "\n",
    "while True: \n",
    "    ret, frame = video_capture.read()\n",
    "\n",
    "    rgb_frame = frame[:, :, ::-1]\n",
    "\n",
    "    face_locations = fr.face_locations(rgb_frame)\n",
    "    face_encodings = fr.face_encodings(rgb_frame, face_locations)\n",
    "\n",
    "    for (top, right, bottom, left), face_encoding in zip(face_locations, face_encodings):\n",
    "\n",
    "        matches = fr.compare_faces(known_face_encondings, face_encoding)\n",
    "\n",
    "        name = \"Unknown\"\n",
    "\n",
    "        face_distances = fr.face_distance(known_face_encondings, face_encoding)\n",
    "\n",
    "        best_match_index = np.argmin(face_distances)\n",
    "        if matches[best_match_index]:\n",
    "            name = known_face_names[best_match_index]\n",
    "        \n",
    "        cv2.rectangle(frame, (left, top), (right, bottom), (0, 0, 255), 2)\n",
    "\n",
    "        cv2.rectangle(frame, (left, bottom -35), (right, bottom), (0, 0, 255), cv2.FILLED)\n",
    "        font = cv2.FONT_HERSHEY_SIMPLEX\n",
    "        cv2.putText(frame, name, (left + 6, bottom - 6), font, 1.0, (255, 255, 255), 1)\n",
    "\n",
    "    cv2.imshow('Webcam_facerecognition', frame)\n",
    "\n",
    "    if cv2.waitKey(1) & 0xFF == ord('x'):\n",
    "        break\n",
    "\n",
    "video_capture.release()\n",
    "cv2.destroyAllWindows()"
   ]
  },
  {
   "cell_type": "code",
   "execution_count": null,
   "id": "8e563e2c",
   "metadata": {},
   "outputs": [],
   "source": []
  }
 ],
 "metadata": {
  "kernelspec": {
   "display_name": "Python 3 (ipykernel)",
   "language": "python",
   "name": "python3"
  },
  "language_info": {
   "codemirror_mode": {
    "name": "ipython",
    "version": 3
   },
   "file_extension": ".py",
   "mimetype": "text/x-python",
   "name": "python",
   "nbconvert_exporter": "python",
   "pygments_lexer": "ipython3",
   "version": "3.9.0"
  }
 },
 "nbformat": 4,
 "nbformat_minor": 5
}
